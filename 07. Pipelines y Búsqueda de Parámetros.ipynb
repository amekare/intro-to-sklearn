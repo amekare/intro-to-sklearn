{
 "cells": [
  {
   "cell_type": "markdown",
   "metadata": {},
   "source": [
    "## Selección de Parámetros y Creación de Pipelines (Linea de Ensamblaje)"
   ]
  },
  {
   "cell_type": "markdown",
   "metadata": {},
   "source": [
    "### Creando y usando un pipeline"
   ]
  },
  {
   "cell_type": "markdown",
   "metadata": {},
   "source": [
    "> <b>Pipelining</b>\n",
    "* `Pipeline(steps=[...])` - donde steps puede ser una lista de procesos por los cuales los datos van a pasar, en la forma de un dataset, o un diccionario que incluya los parametros en cada paso como sus valores\n",
    "* Por ejemplo, acá vemos una transformación (SelectKBest) y una clasificación (SVC) ejecutada de manera unitaria en la forma de un pipeline.\n",
    "\n",
    "Ver un ejemplo completo [acá](http://scikit-learn.org/stable/auto_examples/feature_stacker.html)\n",
    "\n",
    "Nota:  Si se desean efectuar <b>multiples transformaciones</b> dentro de un solo pipeline, puede intentarse usar [FeatureUnion](http://scikit-learn.org/stable/modules/generated/sklearn.pipeline.FeatureUnion.html#sklearn.pipeline.FeatureUnion)"
   ]
  },
  {
   "cell_type": "code",
   "execution_count": null,
   "metadata": {},
   "outputs": [],
   "source": [
    "# Imports for python 2/3 compatibility\n",
    "\n",
    "from __future__ import absolute_import, division, print_function, unicode_literals\n",
    "\n",
    "# For python 2, comment these out:\n",
    "# from builtins import range"
   ]
  },
  {
   "cell_type": "code",
   "execution_count": null,
   "metadata": {
    "scrolled": true
   },
   "outputs": [],
   "source": [
    "from sklearn.cross_validation import train_test_split\n",
    "from sklearn.svm import SVC\n",
    "from sklearn.pipeline import Pipeline\n",
    "from sklearn.feature_selection import SelectKBest, chi2\n",
    "from sklearn.datasets import load_iris\n",
    "\n",
    "iris = load_iris()\n",
    "X, y = iris.data, iris.target\n",
    "\n",
    "X_train, X_test, y_train, y_test = train_test_split(X, y, test_size = 0.3)\n",
    "\n",
    "# Instancia de selección de atributos\n",
    "selection = SelectKBest(chi2, k = 2)\n",
    "\n",
    "# Instancia de clasificador\n",
    "clf = SVC(kernel = 'linear')\n",
    "\n",
    "# Creación del pipeline\n",
    "pipeline = Pipeline([(\"feature selection\", selection), (\"classification\", clf)])\n",
    "\n",
    "# Entrenamiento/Ajuste del pipeline\n",
    "pipeline.fit(X, y)"
   ]
  },
  {
   "cell_type": "code",
   "execution_count": null,
   "metadata": {},
   "outputs": [],
   "source": [
    "# Mlxtend (machine learning extensions) es una libreria de Python con herramientas útiles para ingeniería de datos:\n",
    "# Homepage: http://rasbt.github.io/mlxtend/\n",
    "\n",
    "!pip install msgpack mlxtend"
   ]
  },
  {
   "cell_type": "code",
   "execution_count": null,
   "metadata": {},
   "outputs": [],
   "source": [
    "import numpy as np\n",
    "from mlxtend.plotting import plot_decision_regions\n",
    "\n",
    "# Obtener estimados para el set de prueba con el pipeline que creamos\n",
    "y_pred = pipeline.predict(X_test)\n",
    "\n",
    "# Uso de mlxtend para mostrar las regiones de decisión del clasificador SVC\n",
    "fig, axarr = plt.subplots(1, 2, figsize=(12,5), sharex=True, sharey=True)\n",
    "\n",
    "# Graficar la región de decisión para X_train y y_train. Nótese que el pipeline no transforma a X usando\n",
    "# el componente de SelectKBest, por lo que debemos transformarlos acá:\n",
    "X_train_transformed = selection.transform(X_train)\n",
    "X_test_transformed = selection.transform(X_test)\n",
    "\n",
    "plot_decision_regions(X_train_transformed, y_train, clf=clf, legend=2, ax= axarr[0])\n",
    "axarr[0].set_title(\"Decision Region (Trained)\")\n",
    "\n",
    "plot_decision_regions(X_test_transformed, y_pred, clf=clf, legend=2, ax= axarr[1])\n",
    "axarr[1].set_title(\"Decision Region (Predicted)\")"
   ]
  },
  {
   "cell_type": "markdown",
   "metadata": {},
   "source": [
    "### Búsqueda en el Espacio de Parámetros con `GridSearchCV`"
   ]
  },
  {
   "cell_type": "code",
   "execution_count": null,
   "metadata": {},
   "outputs": [],
   "source": [
    "from sklearn.model_selection import GridSearchCV\n",
    "\n",
    "from sklearn.preprocessing import PolynomialFeatures\n",
    "from sklearn.linear_model import LinearRegression\n",
    "\n",
    "poly = PolynomialFeatures(include_bias = False)\n",
    "lm = LinearRegression()\n",
    "\n",
    "pipeline = Pipeline([(\"polynomial_features\", poly),\n",
    "                         (\"linear_regression\", lm)])\n",
    "\n",
    "param_grid = dict(polynomial_features__degree = list(range(1, 30, 2)),\n",
    "                  linear_regression__normalize = [False, True])\n",
    "\n",
    "grid_search = GridSearchCV(pipeline, param_grid=param_grid)\n",
    "grid_search.fit(X, y)\n",
    "print(grid_search.best_params_)"
   ]
  },
  {
   "cell_type": "markdown",
   "metadata": {},
   "source": [
    "Created by a Microsoft Employee.\n",
    "\t\n",
    "The MIT License (MIT)<br>\n",
    "Copyright (c) 2016 Micheleen Harris"
   ]
  }
 ],
 "metadata": {
  "kernelspec": {
   "display_name": "Python 3",
   "language": "python",
   "name": "python3"
  },
  "language_info": {
   "codemirror_mode": {
    "name": "ipython",
    "version": 3
   },
   "file_extension": ".py",
   "mimetype": "text/x-python",
   "name": "python",
   "nbconvert_exporter": "python",
   "pygments_lexer": "ipython3",
   "version": "3.6.5"
  }
 },
 "nbformat": 4,
 "nbformat_minor": 1
}
